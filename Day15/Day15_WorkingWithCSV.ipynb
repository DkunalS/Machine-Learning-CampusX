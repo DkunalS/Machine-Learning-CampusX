{
  "nbformat": 4,
  "nbformat_minor": 0,
  "metadata": {
    "colab": {
      "provenance": [],
      "authorship_tag": "ABX9TyMa6TdZQO85ubZe5DlEZCgx",
      "include_colab_link": true
    },
    "kernelspec": {
      "name": "python3",
      "display_name": "Python 3"
    },
    "language_info": {
      "name": "python"
    }
  },
  "cells": [
    {
      "cell_type": "markdown",
      "metadata": {
        "id": "view-in-github",
        "colab_type": "text"
      },
      "source": [
        "<a href=\"https://colab.research.google.com/github/DkunalS/Machine-Learning-CampusX/blob/main/Day15/Day15_WorkingWithCSV.ipynb\" target=\"_parent\"><img src=\"https://colab.research.google.com/assets/colab-badge.svg\" alt=\"Open In Colab\"/></a>"
      ]
    },
    {
      "cell_type": "code",
      "execution_count": 1,
      "metadata": {
        "id": "WQrJHTvKCoI_"
      },
      "outputs": [],
      "source": [
        "import requests\n",
        "from io import StringIO\n",
        "import pandas as pd"
      ]
    },
    {
      "cell_type": "code",
      "source": [
        "# accessing the csv file from url\n",
        "headers = {\"user-ag\"}\n",
        "\n",
        "url = \"https://www.kaggle.com/datasets/kaggle/recipe-ingredients-dataset\"\n",
        "pd"
      ],
      "metadata": {
        "id": "LoVmzaZWEctg"
      },
      "execution_count": null,
      "outputs": []
    }
  ]
}